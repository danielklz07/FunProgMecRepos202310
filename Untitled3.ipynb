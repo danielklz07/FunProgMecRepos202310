{
  "nbformat": 4,
  "nbformat_minor": 0,
  "metadata": {
    "colab": {
      "provenance": [],
      "authorship_tag": "ABX9TyNQvh7IrqK+IWNwlC92BP0Z",
      "include_colab_link": true
    },
    "kernelspec": {
      "name": "python3",
      "display_name": "Python 3"
    },
    "language_info": {
      "name": "python"
    }
  },
  "cells": [
    {
      "cell_type": "markdown",
      "metadata": {
        "id": "view-in-github",
        "colab_type": "text"
      },
      "source": [
        "<a href=\"https://colab.research.google.com/github/danielklz07/FunProgMecRepos202310/blob/main/Untitled3.ipynb\" target=\"_parent\"><img src=\"https://colab.research.google.com/assets/colab-badge.svg\" alt=\"Open In Colab\"/></a>"
      ]
    },
    {
      "cell_type": "code",
      "execution_count": 22,
      "metadata": {
        "colab": {
          "base_uri": "https://localhost:8080/"
        },
        "id": "_QEZvP264f3j",
        "outputId": "0236db83-b6b7-4117-d4c7-3bf36f50961a"
      },
      "outputs": [
        {
          "output_type": "stream",
          "name": "stdout",
          "text": [
            "False\n",
            "True\n",
            "True\n"
          ]
        }
      ],
      "source": [
        "a = 24\n",
        "b = 12\n",
        "c = 29\n",
        "d = (b > 0) \n",
        "\n",
        "print ( a < b)\n",
        "print (c > b)\n",
        "print (d)"
      ]
    },
    {
      "cell_type": "code",
      "source": [
        "day = \"Lunes\"\n",
        "if day == \"Lunes\":\n",
        "  print(\"primer dia de la semana.\")"
      ],
      "metadata": {
        "colab": {
          "base_uri": "https://localhost:8080/"
        },
        "id": "vpxY5tRKBdqn",
        "outputId": "0f207c6d-bfef-4412-9436-8d285b6af8ed"
      },
      "execution_count": 28,
      "outputs": [
        {
          "output_type": "stream",
          "name": "stdout",
          "text": [
            "primer dia de la semana.\n"
          ]
        }
      ]
    },
    {
      "cell_type": "code",
      "source": [
        "age = 18\n",
        "if age >= 18:\n",
        "  print(\"mayor de edad.\")"
      ],
      "metadata": {
        "colab": {
          "base_uri": "https://localhost:8080/"
        },
        "id": "Zs0t62s0BCLI",
        "outputId": "a658b8a7-3e14-4a5f-c61c-94af85ffef3f"
      },
      "execution_count": 29,
      "outputs": [
        {
          "output_type": "stream",
          "name": "stdout",
          "text": [
            "mayor de edad.\n"
          ]
        }
      ]
    },
    {
      "cell_type": "markdown",
      "source": [
        "Sentencia Else"
      ],
      "metadata": {
        "id": "SkPSfejzHEAH"
      }
    },
    {
      "cell_type": "code",
      "source": [
        "role = \"admin\"\n",
        "if role == \"admin\":\n",
        "  print(\"acceso Autorizado\")\n",
        "else:\n",
        "  print(\"acceso Denegado\")"
      ],
      "metadata": {
        "colab": {
          "base_uri": "https://localhost:8080/"
        },
        "id": "BYen2--kFRkb",
        "outputId": "e407f43f-4191-4bb2-8335-d4f513b403a6"
      },
      "execution_count": 33,
      "outputs": [
        {
          "output_type": "stream",
          "name": "stdout",
          "text": [
            "acceso Autorizado\n"
          ]
        }
      ]
    },
    {
      "cell_type": "markdown",
      "source": [
        "Sentencia if"
      ],
      "metadata": {
        "id": "tgdaLmw-FKPZ"
      }
    },
    {
      "cell_type": "code",
      "source": [
        "A = 5\n",
        "B = 3\n",
        "c = -2\n",
        "if A > B:\n",
        "  print (\"A es mayor que B\")\n",
        "\n",
        "if A < B:\n",
        "  print (\"A es menor que B\")\n"
      ],
      "metadata": {
        "colab": {
          "base_uri": "https://localhost:8080/"
        },
        "id": "WLlt-pIx_umc",
        "outputId": "1e1cb259-5b31-4ac3-b873-bbf0a3a5da59"
      },
      "execution_count": 24,
      "outputs": [
        {
          "output_type": "stream",
          "name": "stdout",
          "text": [
            "A es mayor que B\n"
          ]
        }
      ]
    },
    {
      "cell_type": "markdown",
      "source": [
        "Sentencia Else\n"
      ],
      "metadata": {
        "id": "YHbYHmieEevv"
      }
    },
    {
      "cell_type": "code",
      "source": [
        "A = 3\n",
        "B = 5\n",
        "if A > B:\n",
        "  print(\"A es mayor que B\")\n",
        "else:\n",
        "  print(\"A es menor o igual que B\")"
      ],
      "metadata": {
        "colab": {
          "base_uri": "https://localhost:8080/"
        },
        "id": "jbd7P0hYDlU9",
        "outputId": "c18a8e1d-c1eb-4ebd-ee63-429794cf10bc"
      },
      "execution_count": 30,
      "outputs": [
        {
          "output_type": "stream",
          "name": "stdout",
          "text": [
            "A es menor o igual que B\n"
          ]
        }
      ]
    },
    {
      "cell_type": "code",
      "source": [
        "A = 5\n",
        "B = 12\n",
        "if A > B:\n",
        "  print(\"A es mayor que B\")\n",
        "else:\n",
        "  print(\"A es menor o igual que B\")\n",
        "  "
      ],
      "metadata": {
        "colab": {
          "base_uri": "https://localhost:8080/"
        },
        "id": "OvoNcb8fEoVQ",
        "outputId": "51eadebd-be01-4441-b0f5-72c9e0ab0178"
      },
      "execution_count": 31,
      "outputs": [
        {
          "output_type": "stream",
          "name": "stdout",
          "text": [
            "A es menor o igual que B\n"
          ]
        }
      ]
    },
    {
      "cell_type": "markdown",
      "source": [
        "Sentencia Elif"
      ],
      "metadata": {
        "id": "nTINfZwXFYAi"
      }
    },
    {
      "cell_type": "code",
      "source": [
        "A = 5\n",
        "B = 10\n",
        "\n",
        "if A > B:\n",
        "  print(\"A es mayor que B\")\n",
        "elif A < B:\n",
        "  print(\"A es igual a B\")\n",
        "else:\n",
        "  print(\"A es igual a B\")"
      ],
      "metadata": {
        "colab": {
          "base_uri": "https://localhost:8080/"
        },
        "id": "vD0iAKasFdA6",
        "outputId": "c75d1d57-4acc-4731-d544-1d189ef60b46"
      },
      "execution_count": 32,
      "outputs": [
        {
          "output_type": "stream",
          "name": "stdout",
          "text": [
            "A es igual a B\n"
          ]
        }
      ]
    },
    {
      "cell_type": "code",
      "source": [
        "x = 3\n",
        "y = 4\n",
        "\n",
        "if x  and  0:\n",
        "  print(\"los puntos estan en el primer cuadrante\")\n",
        "elif x > 0 and y < 0:\n",
        "  print(\"los puntos estan en el sengundo cuadrante\")\n",
        "else x > 0 and < 0:\n",
        "  print(\"los puntos estan en el primer cuadrante\")"
      ],
      "metadata": {
        "colab": {
          "base_uri": "https://localhost:8080/",
          "height": 130
        },
        "id": "N5moda52HO4f",
        "outputId": "f16ebb0e-53cc-4da7-8b76-0502e905244c"
      },
      "execution_count": 37,
      "outputs": [
        {
          "output_type": "error",
          "ename": "SyntaxError",
          "evalue": "ignored",
          "traceback": [
            "\u001b[0;36m  File \u001b[0;32m\"<ipython-input-37-178c3eaf9e31>\"\u001b[0;36m, line \u001b[0;32m8\u001b[0m\n\u001b[0;31m    else x > 0 and < 0:\u001b[0m\n\u001b[0m         ^\u001b[0m\n\u001b[0;31mSyntaxError\u001b[0m\u001b[0;31m:\u001b[0m invalid syntax\n"
          ]
        }
      ]
    },
    {
      "cell_type": "code",
      "source": [
        "x = float(input(\"Coordenada x:\"))\n",
        "y = float(input(\"Coordenada y: \"))"
      ],
      "metadata": {
        "id": "G5MXMjx0JJv1"
      },
      "execution_count": null,
      "outputs": []
    }
  ]
}