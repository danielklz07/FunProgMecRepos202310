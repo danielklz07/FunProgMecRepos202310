{
  "cells": [
    {
      "cell_type": "markdown",
      "id": "6bb7deb9",
      "metadata": {
        "id": "6bb7deb9"
      },
      "source": [
        "# Introducción\n",
        "\n",
        "## Primeros Pasos\n",
        "\n",
        "Este es un párrafo en Markdown. Se escribe normalito.\n",
        "\n",
        "Algunos estilos son: _Esto es cursiva_, **Esto es negrita**\n",
        "\n",
        "Si quiero agregar código en línea, utilizo el backtip: `variable_1`, `variable_2`\n",
        "\n",
        "Y LaTeX para ecuaciones: $x, y, z$\n",
        "\n",
        "$$ y = mx + b $$\n",
        "\n",
        "## Listas Desordenadas\n",
        "\n",
        "Ingredientes:\n",
        "- Harina\n",
        "- Huevo\n",
        "- Leche\n",
        "- Azúcar\n",
        "- Mantequilla\n",
        "\n",
        "\n",
        "## Listas Ordenadas\n",
        "\n",
        "Receta:\n",
        "\n",
        "1. Mezcle los ingredientes secos (harina, azúcar)\n",
        "2. Agregue la leche y el huevo\n",
        "3. Mezcle con la mantequilla\n",
        "\n",
        "### Texto \"Estilizado\" o para frases:\n",
        "\n",
        "> Esta es una información importante"
      ]
    },
    {
      "cell_type": "code",
      "execution_count": null,
      "id": "f5e3c6e7",
      "metadata": {
        "id": "f5e3c6e7",
        "outputId": "19dec95a-99cb-468d-ea4b-5190a5cf2fec"
      },
      "outputs": [
        {
          "name": "stdout",
          "output_type": "stream",
          "text": [
            "Bienvenidos a Python\n",
            "Hola Mikheltodd es un gusto conocerte.\n"
          ]
        }
      ],
      "source": [
        "print(\"Bienvenidos a Python\")\n",
        "name = \"Mikheltodd\"\n",
        "print(\"Hola\", name, \"es un gusto conocerte.\")"
      ]
    },
    {
      "cell_type": "code",
      "execution_count": 4,
      "id": "f66c5d54",
      "metadata": {
        "colab": {
          "base_uri": "https://localhost:8080/"
        },
        "id": "f66c5d54",
        "outputId": "0d6813c1-d2d1-4288-d055-d1c4f75b761c"
      },
      "outputs": [
        {
          "output_type": "stream",
          "name": "stdout",
          "text": [
            "daniel\n"
          ]
        }
      ],
      "source": [
        "name = \"daniel\"\n",
        "print (name)"
      ]
    },
    {
      "cell_type": "code",
      "source": [
        "age = 18\n",
        "height = 1.60"
      ],
      "metadata": {
        "id": "WVTnchlKxmQ-"
      },
      "id": "WVTnchlKxmQ-",
      "execution_count": 7,
      "outputs": []
    },
    {
      "cell_type": "code",
      "source": [
        "print(type(age))\n",
        "print(type(height))"
      ],
      "metadata": {
        "colab": {
          "base_uri": "https://localhost:8080/"
        },
        "id": "gTiZeLVRytlz",
        "outputId": "49787e44-73b0-4a7e-ce45-f631fb12ad6a"
      },
      "id": "gTiZeLVRytlz",
      "execution_count": 8,
      "outputs": [
        {
          "output_type": "stream",
          "name": "stdout",
          "text": [
            "<class 'int'>\n",
            "<class 'float'>\n"
          ]
        }
      ]
    },
    {
      "cell_type": "code",
      "source": [
        "a = 5\n",
        "b = 2\n",
        "c = a + b\n",
        "d = a - b\n",
        "e = a * b\n",
        "f = a / b\n",
        "print(c)\n",
        "print(d)\n",
        "print(e)\n",
        "print(f)"
      ],
      "metadata": {
        "colab": {
          "base_uri": "https://localhost:8080/"
        },
        "id": "zws8Z3gWzHWZ",
        "outputId": "c8cfe94e-ac1e-41d5-e07b-d98a3f88df76"
      },
      "id": "zws8Z3gWzHWZ",
      "execution_count": 9,
      "outputs": [
        {
          "output_type": "stream",
          "name": "stdout",
          "text": [
            "7\n",
            "3\n",
            "10\n",
            "2.5\n"
          ]
        }
      ]
    },
    {
      "cell_type": "code",
      "source": [],
      "metadata": {
        "id": "VK-qZ-6J093I"
      },
      "id": "VK-qZ-6J093I",
      "execution_count": 11,
      "outputs": []
    },
    {
      "cell_type": "code",
      "source": [
        "a = 5\n",
        "b = 3.5\n",
        "c = 2\n",
        "eq = 2 * a + 3 * b - 5 * c\n",
        "print(eq)"
      ],
      "metadata": {
        "colab": {
          "base_uri": "https://localhost:8080/"
        },
        "id": "5rQwAbUO0lQE",
        "outputId": "8e2de45c-5578-45bf-9229-778c3acd0182"
      },
      "id": "5rQwAbUO0lQE",
      "execution_count": 19,
      "outputs": [
        {
          "output_type": "stream",
          "name": "stdout",
          "text": [
            "10.5\n"
          ]
        }
      ]
    },
    {
      "cell_type": "code",
      "source": [
        "# Caculo de la potencia: dos elevado a la tres\n",
        "a = 3 ** 3\n",
        "# Calculo de la raiz cuadrada de cinco\n",
        "b = 5 ** 0.5\n",
        "print(a)\n",
        "print(b)"
      ],
      "metadata": {
        "colab": {
          "base_uri": "https://localhost:8080/"
        },
        "id": "2-ex8Dls10vp",
        "outputId": "3642f20b-d0e9-4c66-d93c-c62b40343659"
      },
      "id": "2-ex8Dls10vp",
      "execution_count": 23,
      "outputs": [
        {
          "output_type": "stream",
          "name": "stdout",
          "text": [
            "27\n",
            "2.23606797749979\n"
          ]
        }
      ]
    },
    {
      "cell_type": "code",
      "source": [
        "# Calculo de modulo\n",
        "n = 5\n",
        "x = n % 2\n",
        "print(x)"
      ],
      "metadata": {
        "colab": {
          "base_uri": "https://localhost:8080/"
        },
        "id": "VDIdbpC92EV3",
        "outputId": "a5747d48-f2da-4839-8141-a5fe48785a42"
      },
      "id": "VDIdbpC92EV3",
      "execution_count": 24,
      "outputs": [
        {
          "output_type": "stream",
          "name": "stdout",
          "text": [
            "1\n"
          ]
        }
      ]
    },
    {
      "cell_type": "code",
      "source": [
        "greetings = \"Good Morning\"\n",
        " name = \"Daniel\"\n",
        " age = 18 \n",
        " message = greetings + \" My name is \" + name + \" and I am \" + str(age) + \" years old.\"\n",
        " print(message)"
      ],
      "metadata": {
        "colab": {
          "base_uri": "https://localhost:8080/",
          "height": 130
        },
        "id": "moYb0j4o4Qb4",
        "outputId": "b31612c6-6613-4139-9d7d-72eb2d3d01cc"
      },
      "id": "moYb0j4o4Qb4",
      "execution_count": 49,
      "outputs": [
        {
          "output_type": "error",
          "ename": "IndentationError",
          "evalue": "ignored",
          "traceback": [
            "\u001b[0;36m  File \u001b[0;32m\"<ipython-input-49-bd62610ae226>\"\u001b[0;36m, line \u001b[0;32m2\u001b[0m\n\u001b[0;31m    name = \"Daniel\"\u001b[0m\n\u001b[0m    ^\u001b[0m\n\u001b[0;31mIndentationError\u001b[0m\u001b[0;31m:\u001b[0m unexpected indent\n"
          ]
        }
      ]
    },
    {
      "cell_type": "markdown",
      "source": [
        "##-=\n"
      ],
      "metadata": {
        "id": "Je9undwF9uuH"
      },
      "id": "Je9undwF9uuH"
    },
    {
      "cell_type": "code",
      "source": [
        "price = 5000\n",
        "print(price)\n",
        "price += 500\n",
        "price *= 3\n",
        "price /= 5\n",
        "price -= 5\n",
        "print(price)"
      ],
      "metadata": {
        "colab": {
          "base_uri": "https://localhost:8080/"
        },
        "id": "ANws0nCx5Y8A",
        "outputId": "a31ef398-e8e2-40e6-c11f-5304c48f71cc"
      },
      "id": "ANws0nCx5Y8A",
      "execution_count": 42,
      "outputs": [
        {
          "output_type": "stream",
          "name": "stdout",
          "text": [
            "5000\n",
            "3295.0\n"
          ]
        }
      ]
    },
    {
      "cell_type": "markdown",
      "source": [
        "##Multi - line"
      ],
      "metadata": {
        "id": "gG8RXb6-9jro"
      },
      "id": "gG8RXb6-9jro"
    },
    {
      "cell_type": "code",
      "source": [
        "message = \"\"\"This is a paragraph.\n",
        "It has a lot of lines.\n",
        "ANd if it has any rhime\n",
        "That's great\"\"\"\n",
        "print(message)"
      ],
      "metadata": {
        "colab": {
          "base_uri": "https://localhost:8080/"
        },
        "id": "eh3siHET8TBP",
        "outputId": "7e665b51-a3aa-4aa6-ca8d-ea1f4000f52c"
      },
      "id": "eh3siHET8TBP",
      "execution_count": 47,
      "outputs": [
        {
          "output_type": "stream",
          "name": "stdout",
          "text": [
            "This is a paragraph.\n",
            "It has a lot of lines.\n",
            "ANd if it has any rhime\n",
            "That's great\n"
          ]
        }
      ]
    },
    {
      "cell_type": "code",
      "source": [],
      "metadata": {
        "id": "X77ol2Q28sV9"
      },
      "id": "X77ol2Q28sV9",
      "execution_count": null,
      "outputs": []
    }
  ],
  "metadata": {
    "kernelspec": {
      "display_name": "Python 3 (ipykernel)",
      "language": "python",
      "name": "python3"
    },
    "language_info": {
      "codemirror_mode": {
        "name": "ipython",
        "version": 3
      },
      "file_extension": ".py",
      "mimetype": "text/x-python",
      "name": "python",
      "nbconvert_exporter": "python",
      "pygments_lexer": "ipython3",
      "version": "3.10.6"
    },
    "colab": {
      "provenance": []
    }
  },
  "nbformat": 4,
  "nbformat_minor": 5
}